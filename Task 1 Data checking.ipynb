{
 "cells": [
  {
   "cell_type": "markdown",
   "id": "58b8eae9-25ce-4d8b-954f-d8f6cb018ec2",
   "metadata": {},
   "source": [
    "# Data checking"
   ]
  },
  {
   "cell_type": "code",
   "execution_count": 1,
   "id": "de913989-88b3-45a5-bb5f-6a1c52182e7b",
   "metadata": {},
   "outputs": [],
   "source": [
    "import numpy as np\n",
    "import pandas as pd\n",
    "data = pd.read_csv('data.csv')"
   ]
  },
  {
   "cell_type": "code",
   "execution_count": 2,
   "id": "ba2f6e9d-3030-4fff-9746-f13eca60dd23",
   "metadata": {},
   "outputs": [
    {
     "name": "stdout",
     "output_type": "stream",
     "text": [
      "<class 'pandas.core.frame.DataFrame'>\n",
      "RangeIndex: 3000 entries, 0 to 2999\n",
      "Data columns (total 14 columns):\n",
      " #   Column                         Non-Null Count  Dtype  \n",
      "---  ------                         --------------  -----  \n",
      " 0   Flight ID                      3000 non-null   int64  \n",
      " 1   Airline                        3000 non-null   object \n",
      " 2   Flight_Distance                3000 non-null   int64  \n",
      " 3   Origin_Airport                 3000 non-null   object \n",
      " 4   Destination_Airport            3000 non-null   object \n",
      " 5   Scheduled_Departure_Time       3000 non-null   int64  \n",
      " 6   Day_of_Week                    3000 non-null   int64  \n",
      " 7   Month                          3000 non-null   int64  \n",
      " 8   Airplane_Type                  3000 non-null   object \n",
      " 9   Weather_Score                  3000 non-null   float64\n",
      " 10  Previous_Flight_Delay_Minutes  3000 non-null   float64\n",
      " 11  Airline_Rating                 3000 non-null   float64\n",
      " 12  Passenger_Load                 3000 non-null   float64\n",
      " 13  Flight_Cancelled               3000 non-null   int64  \n",
      "dtypes: float64(4), int64(6), object(4)\n",
      "memory usage: 328.2+ KB\n"
     ]
    }
   ],
   "source": [
    "data.info()"
   ]
  },
  {
   "cell_type": "code",
   "execution_count": 3,
   "id": "43e61470-adff-420d-945b-e5e3d90a4d1e",
   "metadata": {},
   "outputs": [],
   "source": [
    "data = data.drop_duplicates()"
   ]
  },
  {
   "cell_type": "markdown",
   "id": "844979ee-0955-485b-8df3-81eed1d035c3",
   "metadata": {},
   "source": [
    "#### Checking for missing values"
   ]
  },
  {
   "cell_type": "code",
   "execution_count": 4,
   "id": "b154c3c3-cb18-4dec-a2c2-32c3c1f264b4",
   "metadata": {},
   "outputs": [
    {
     "name": "stdout",
     "output_type": "stream",
     "text": [
      "Flight ID                        0\n",
      "Airline                          0\n",
      "Flight_Distance                  0\n",
      "Origin_Airport                   0\n",
      "Destination_Airport              0\n",
      "Scheduled_Departure_Time         0\n",
      "Day_of_Week                      0\n",
      "Month                            0\n",
      "Airplane_Type                    0\n",
      "Weather_Score                    0\n",
      "Previous_Flight_Delay_Minutes    0\n",
      "Airline_Rating                   0\n",
      "Passenger_Load                   0\n",
      "Flight_Cancelled                 0\n",
      "dtype: int64\n"
     ]
    }
   ],
   "source": [
    "missing_values = data.isnull().sum()\n",
    "\n",
    "print(missing_values)"
   ]
  },
  {
   "cell_type": "markdown",
   "id": "9afb6dbc-2086-4844-9d10-e2a012b188b1",
   "metadata": {},
   "source": [
    "#### Checking and removing outliers using boxplots"
   ]
  },
  {
   "cell_type": "code",
   "execution_count": 5,
   "id": "401aef4c-6f41-4bdb-a8dd-9a678b5de3b9",
   "metadata": {},
   "outputs": [
    {
     "name": "stdout",
     "output_type": "stream",
     "text": [
      "<class 'pandas.core.frame.DataFrame'>\n",
      "Int64Index: 3000 entries, 0 to 2999\n",
      "Data columns (total 14 columns):\n",
      " #   Column                         Non-Null Count  Dtype  \n",
      "---  ------                         --------------  -----  \n",
      " 0   Flight ID                      3000 non-null   int64  \n",
      " 1   Airline                        3000 non-null   object \n",
      " 2   Flight_Distance                3000 non-null   int64  \n",
      " 3   Origin_Airport                 3000 non-null   object \n",
      " 4   Destination_Airport            3000 non-null   object \n",
      " 5   Scheduled_Departure_Time       3000 non-null   int64  \n",
      " 6   Day_of_Week                    3000 non-null   int64  \n",
      " 7   Month                          3000 non-null   int64  \n",
      " 8   Airplane_Type                  3000 non-null   object \n",
      " 9   Weather_Score                  3000 non-null   float64\n",
      " 10  Previous_Flight_Delay_Minutes  3000 non-null   float64\n",
      " 11  Airline_Rating                 3000 non-null   float64\n",
      " 12  Passenger_Load                 3000 non-null   float64\n",
      " 13  Flight_Cancelled               3000 non-null   int64  \n",
      "dtypes: float64(4), int64(6), object(4)\n",
      "memory usage: 351.6+ KB\n"
     ]
    }
   ],
   "source": [
    "data.info()"
   ]
  },
  {
   "cell_type": "code",
   "execution_count": 6,
   "id": "b6b5dc04-59cb-441d-b38b-cd77b5ac44e0",
   "metadata": {},
   "outputs": [
    {
     "data": {
      "text/plain": [
       "<AxesSubplot: >"
      ]
     },
     "execution_count": 6,
     "metadata": {},
     "output_type": "execute_result"
    },
    {
     "data": {
      "image/png": "[encoded data removed]",
      "text/plain": [
       "<Figure size 432x288 with 1 Axes>"
      ]
     },
     "metadata": {
      "needs_background": "light"
     },
     "output_type": "display_data"
    }
   ],
   "source": [
    "# Checking outliers for Flight Id column\n",
    "import seaborn as sns\n",
    "sns.boxplot(data['Flight ID'])"
   ]
  },
  {
   "cell_type": "code",
   "execution_count": 7,
   "id": "3c6a1280-3dcb-41a9-b5af-5f612606b29f",
   "metadata": {},
   "outputs": [
    {
     "data": {
      "text/plain": [
       "<AxesSubplot: >"
      ]
     },
     "execution_count": 7,
     "metadata": {},
     "output_type": "execute_result"
    },
    {
     "data": {
      "image/png": "[encoded data removed]",
      "text/plain": [
       "<Figure size 432x288 with 1 Axes>"
      ]
     },
     "metadata": {
      "needs_background": "light"
     },
     "output_type": "display_data"
    }
   ],
   "source": [
    "# Checking outliers for the Flight_Distance column\n",
    "sns.boxplot(data['Flight_Distance'])"
   ]
  },
  {
   "cell_type": "code",
   "execution_count": 8,
   "id": "db9b4d54-0db4-4b8b-a1a3-e9cca6e487ed",
   "metadata": {},
   "outputs": [
    {
     "data": {
      "image/png": "[encoded data removed]",
      "text/plain": [
       "<Figure size 432x288 with 1 Axes>"
      ]
     },
     "metadata": {
      "needs_background": "light"
     },
     "output_type": "display_data"
    },
    {
     "data": {
      "image/png": "[encoded data removed]",
      "text/plain": [
       "<Figure size 432x288 with 1 Axes>"
      ]
     },
     "metadata": {
      "needs_background": "light"
     },
     "output_type": "display_data"
    }
   ],
   "source": [
    "import seaborn as sns\n",
    "import matplotlib.pyplot as plt\n",
    "\n",
    "def removal_box_plot(data, column, lower_threshold, upper_threshold):\n",
    "    sns.boxplot(data[column])\n",
    "    plt.title(f'Original Box Plot of {column}')\n",
    "    plt.show()\n",
    "\n",
    "    removed_outliers = data[(data[column] >= lower_threshold) & (data[column] <= upper_threshold)]\n",
    "\n",
    "    sns.boxplot(removed_outliers[column])\n",
    "    plt.title(f'Box Plot without Outliers of {column}')\n",
    "    plt.show()\n",
    "\n",
    "    return removed_outliers\n",
    "\n",
    "# Specify the threshold values\n",
    "lower_threshold = 300\n",
    "upper_threshold = 700\n",
    "\n",
    "data_new = removal_box_plot(data, 'Flight_Distance', lower_threshold, upper_threshold)\n"
   ]
  },
  {
   "cell_type": "code",
   "execution_count": 9,
   "id": "3956a3f0-fc7e-4905-affc-43086dab9adc",
   "metadata": {},
   "outputs": [
    {
     "data": {
      "text/plain": [
       "<AxesSubplot: >"
      ]
     },
     "execution_count": 9,
     "metadata": {},
     "output_type": "execute_result"
    },
    {
     "data": {
      "image/png": "[encoded data removed]",
      "text/plain": [
       "<Figure size 432x288 with 1 Axes>"
      ]
     },
     "metadata": {
      "needs_background": "light"
     },
     "output_type": "display_data"
    }
   ],
   "source": [
    "# Checking outliers for the Scheduled_Departure_Time column     \n",
    "sns.boxplot(data_new['Scheduled_Departure_Time'])"
   ]
  },
  {
   "cell_type": "code",
   "execution_count": 10,
   "id": "2cc73716-8e3c-4164-968c-41c811d53220",
   "metadata": {},
   "outputs": [
    {
     "data": {
      "text/plain": [
       "<AxesSubplot: >"
      ]
     },
     "execution_count": 10,
     "metadata": {},
     "output_type": "execute_result"
    },
    {
     "data": {
      "image/png": "[encoded data removed]",
      "text/plain": [
       "<Figure size 432x288 with 1 Axes>"
      ]
     },
     "metadata": {
      "needs_background": "light"
     },
     "output_type": "display_data"
    }
   ],
   "source": [
    "# Checking outliers for the Day_of_Week column     \n",
    "sns.boxplot(data_new['Day_of_Week'])"
   ]
  },
  {
   "cell_type": "code",
   "execution_count": 11,
   "id": "a314f469-1991-4f64-8aae-f1ccb5ed72f8",
   "metadata": {},
   "outputs": [
    {
     "data": {
      "text/plain": [
       "<AxesSubplot: >"
      ]
     },
     "execution_count": 11,
     "metadata": {},
     "output_type": "execute_result"
    },
    {
     "data": {
      "image/png": "[encoded data removed]",
      "text/plain": [
       "<Figure size 432x288 with 1 Axes>"
      ]
     },
     "metadata": {
      "needs_background": "light"
     },
     "output_type": "display_data"
    }
   ],
   "source": [
    "# Checking outliers for the Month column     \n",
    "sns.boxplot(data_new['Month'])"
   ]
  },
  {
   "cell_type": "code",
   "execution_count": 12,
   "id": "8e05f591-407c-4ee2-bca4-780a341615d4",
   "metadata": {},
   "outputs": [
    {
     "data": {
      "text/plain": [
       "<AxesSubplot: >"
      ]
     },
     "execution_count": 12,
     "metadata": {},
     "output_type": "execute_result"
    },
    {
     "data": {
      "image/png": "[encoded data removed]",
      "text/plain": [
       "<Figure size 432x288 with 1 Axes>"
      ]
     },
     "metadata": {
      "needs_background": "light"
     },
     "output_type": "display_data"
    }
   ],
   "source": [
    "# Checking outliers for the Weather_Score column     \n",
    "sns.boxplot(data_new['Weather_Score'])"
   ]
  },
  {
   "cell_type": "code",
   "execution_count": 13,
   "id": "7ae00286-b93c-43f2-8303-548166235824",
   "metadata": {},
   "outputs": [
    {
     "data": {
      "text/plain": [
       "<AxesSubplot: >"
      ]
     },
     "execution_count": 13,
     "metadata": {},
     "output_type": "execute_result"
    },
    {
     "data": {
      "image/png": "[encoded data removed]",
      "text/plain": [
       "<Figure size 432x288 with 1 Axes>"
      ]
     },
     "metadata": {
      "needs_background": "light"
     },
     "output_type": "display_data"
    }
   ],
   "source": [
    "# Checking outliers for the Previous_Flight_Delay_Minutes column\n",
    "sns.boxplot(data_new['Previous_Flight_Delay_Minutes'])"
   ]
  },
  {
   "cell_type": "code",
   "execution_count": 14,
   "id": "799914ae-c851-479f-aac7-2e530c60918b",
   "metadata": {},
   "outputs": [
    {
     "data": {
      "image/png": "[encoded data removed]",
      "text/plain": [
       "<Figure size 432x288 with 1 Axes>"
      ]
     },
     "metadata": {
      "needs_background": "light"
     },
     "output_type": "display_data"
    },
    {
     "data": {
      "image/png": "[encoded data removed]",
      "text/plain": [
       "<Figure size 432x288 with 1 Axes>"
      ]
     },
     "metadata": {
      "needs_background": "light"
     },
     "output_type": "display_data"
    }
   ],
   "source": [
    "def removal_box_plot(data_new, column, threshold):\n",
    "    sns.boxplot(data_new[column])\n",
    "    plt.title(f'Original Box Plot of {column}')\n",
    "    plt.show()\n",
    "\n",
    "    removed_outliers = data_new[data_new[column] <= threshold]\n",
    "\n",
    "    sns.boxplot(removed_outliers[column])\n",
    "    plt.title(f'Box Plot without Outliers of {column}')\n",
    "    plt.show()\n",
    "    \n",
    "    return removed_outliers\n",
    "\n",
    "threshold_value = 50\n",
    "\n",
    "data_new1 = removal_box_plot(data_new, 'Previous_Flight_Delay_Minutes', threshold_value)"
   ]
  },
  {
   "cell_type": "code",
   "execution_count": 15,
   "id": "80bfd02d-74d8-4179-be13-f4d13deaf32f",
   "metadata": {},
   "outputs": [
    {
     "data": {
      "text/plain": [
       "<AxesSubplot: >"
      ]
     },
     "execution_count": 15,
     "metadata": {},
     "output_type": "execute_result"
    },
    {
     "data": {
      "image/png": "[encoded data removed]",
      "text/plain": [
       "<Figure size 432x288 with 1 Axes>"
      ]
     },
     "metadata": {
      "needs_background": "light"
     },
     "output_type": "display_data"
    }
   ],
   "source": [
    "# Checking outliers for Airline_Rating column\n",
    "sns.boxplot(data_new['Airline_Rating'])"
   ]
  },
  {
   "cell_type": "code",
   "execution_count": 16,
   "id": "54dc31fe-d30e-4cb7-a237-659e350a5917",
   "metadata": {},
   "outputs": [
    {
     "data": {
      "text/plain": [
       "<AxesSubplot: >"
      ]
     },
     "execution_count": 16,
     "metadata": {},
     "output_type": "execute_result"
    },
    {
     "data": {
      "image/png": "[encoded data removed]",
      "text/plain": [
       "<Figure size 432x288 with 1 Axes>"
      ]
     },
     "metadata": {
      "needs_background": "light"
     },
     "output_type": "display_data"
    }
   ],
   "source": [
    "# Checking outliers for the Passenger_Load column\n",
    "sns.boxplot(data_new['Passenger_Load'])"
   ]
  },
  {
   "cell_type": "code",
   "execution_count": 17,
   "id": "c507d899-d989-45d4-a7a1-e7a0e5fdc83e",
   "metadata": {},
   "outputs": [
    {
     "data": {
      "text/plain": [
       "<AxesSubplot: >"
      ]
     },
     "execution_count": 17,
     "metadata": {},
     "output_type": "execute_result"
    },
    {
     "data": {
      "image/png": "[encoded data removed]",
      "text/plain": [
       "<Figure size 432x288 with 1 Axes>"
      ]
     },
     "metadata": {
      "needs_background": "light"
     },
     "output_type": "display_data"
    }
   ],
   "source": [
    "# Checking outliers for the Flight_Cancelled column\n",
    "sns.boxplot(data_new['Flight_Cancelled'])"
   ]
  },
  {
   "cell_type": "markdown",
   "id": "ea9e844b-46bb-49ce-bc43-8422b68af281",
   "metadata": {},
   "source": [
    "#### Checking the data types for each column"
   ]
  },
  {
   "cell_type": "code",
   "execution_count": 18,
   "id": "94e0d8d2-ae04-4f5b-a106-3ffc9fdc4d22",
   "metadata": {},
   "outputs": [
    {
     "name": "stdout",
     "output_type": "stream",
     "text": [
      "Flight ID                          int64\n",
      "Airline                           object\n",
      "Flight_Distance                    int64\n",
      "Origin_Airport                    object\n",
      "Destination_Airport               object\n",
      "Scheduled_Departure_Time           int64\n",
      "Day_of_Week                        int64\n",
      "Month                              int64\n",
      "Airplane_Type                     object\n",
      "Weather_Score                    float64\n",
      "Previous_Flight_Delay_Minutes    float64\n",
      "Airline_Rating                   float64\n",
      "Passenger_Load                   float64\n",
      "Flight_Cancelled                   int64\n",
      "dtype: object\n"
     ]
    }
   ],
   "source": [
    "print(data_new1.dtypes)"
   ]
  },
  {
   "cell_type": "code",
   "execution_count": 20,
   "id": "185fe7b6-cfd1-4e1d-a1e8-08c431a80584",
   "metadata": {},
   "outputs": [
    {
     "data": {
      "text/html": [
       "<div>\n",
       "<style scoped>\n",
       "    .dataframe tbody tr th:only-of-type {\n",
       "        vertical-align: middle;\n",
       "    }\n",
       "\n",
       "    .dataframe tbody tr th {\n",
       "        vertical-align: top;\n",
       "    }\n",
       "\n",
       "    .dataframe thead th {\n",
       "        text-align: right;\n",
       "    }\n",
       "</style>\n",
       "<table border=\"1\" class=\"dataframe\">\n",
       "  <thead>\n",
       "    <tr style=\"text-align: right;\">\n",
       "      <th></th>\n",
       "      <th>Flight ID</th>\n",
       "      <th>Airline</th>\n",
       "      <th>Flight_Distance</th>\n",
       "      <th>Origin_Airport</th>\n",
       "      <th>Destination_Airport</th>\n",
       "      <th>Scheduled_Departure_Time</th>\n",
       "      <th>Day_of_Week</th>\n",
       "      <th>Month</th>\n",
       "      <th>Airplane_Type</th>\n",
       "      <th>Weather_Score</th>\n",
       "      <th>Previous_Flight_Delay_Minutes</th>\n",
       "      <th>Airline_Rating</th>\n",
       "      <th>Passenger_Load</th>\n",
       "      <th>Flight_Cancelled</th>\n",
       "    </tr>\n",
       "  </thead>\n",
       "  <tbody>\n",
       "    <tr>\n",
       "      <th>0</th>\n",
       "      <td>7319483</td>\n",
       "      <td>Airline D</td>\n",
       "      <td>475</td>\n",
       "      <td>Airport 3</td>\n",
       "      <td>Airport 2</td>\n",
       "      <td>4</td>\n",
       "      <td>6</td>\n",
       "      <td>1</td>\n",
       "      <td>Type C</td>\n",
       "      <td>0.225122</td>\n",
       "      <td>5.0</td>\n",
       "      <td>2.151974</td>\n",
       "      <td>0.477202</td>\n",
       "      <td>0</td>\n",
       "    </tr>\n",
       "    <tr>\n",
       "      <th>2</th>\n",
       "      <td>2991718</td>\n",
       "      <td>Airline C</td>\n",
       "      <td>565</td>\n",
       "      <td>Airport 1</td>\n",
       "      <td>Airport 2</td>\n",
       "      <td>17</td>\n",
       "      <td>3</td>\n",
       "      <td>9</td>\n",
       "      <td>Type C</td>\n",
       "      <td>0.093920</td>\n",
       "      <td>18.0</td>\n",
       "      <td>4.406848</td>\n",
       "      <td>0.256803</td>\n",
       "      <td>0</td>\n",
       "    </tr>\n",
       "    <tr>\n",
       "      <th>3</th>\n",
       "      <td>4220106</td>\n",
       "      <td>Airline E</td>\n",
       "      <td>658</td>\n",
       "      <td>Airport 5</td>\n",
       "      <td>Airport 3</td>\n",
       "      <td>1</td>\n",
       "      <td>1</td>\n",
       "      <td>8</td>\n",
       "      <td>Type B</td>\n",
       "      <td>0.656750</td>\n",
       "      <td>13.0</td>\n",
       "      <td>0.998757</td>\n",
       "      <td>0.504077</td>\n",
       "      <td>1</td>\n",
       "    </tr>\n",
       "    <tr>\n",
       "      <th>4</th>\n",
       "      <td>2263008</td>\n",
       "      <td>Airline E</td>\n",
       "      <td>566</td>\n",
       "      <td>Airport 2</td>\n",
       "      <td>Airport 2</td>\n",
       "      <td>19</td>\n",
       "      <td>7</td>\n",
       "      <td>12</td>\n",
       "      <td>Type E</td>\n",
       "      <td>0.505211</td>\n",
       "      <td>4.0</td>\n",
       "      <td>3.806206</td>\n",
       "      <td>0.019638</td>\n",
       "      <td>0</td>\n",
       "    </tr>\n",
       "    <tr>\n",
       "      <th>5</th>\n",
       "      <td>9450813</td>\n",
       "      <td>Airline B</td>\n",
       "      <td>446</td>\n",
       "      <td>Airport 4</td>\n",
       "      <td>Airport 5</td>\n",
       "      <td>3</td>\n",
       "      <td>5</td>\n",
       "      <td>2</td>\n",
       "      <td>Type D</td>\n",
       "      <td>0.030072</td>\n",
       "      <td>5.0</td>\n",
       "      <td>2.228958</td>\n",
       "      <td>0.424126</td>\n",
       "      <td>0</td>\n",
       "    </tr>\n",
       "  </tbody>\n",
       "</table>\n",
       "</div>"
      ],
      "text/plain": [
       "   Flight ID    Airline  Flight_Distance Origin_Airport Destination_Airport  \\\n",
       "0    7319483  Airline D              475      Airport 3           Airport 2   \n",
       "2    2991718  Airline C              565      Airport 1           Airport 2   \n",
       "3    4220106  Airline E              658      Airport 5           Airport 3   \n",
       "4    2263008  Airline E              566      Airport 2           Airport 2   \n",
       "5    9450813  Airline B              446      Airport 4           Airport 5   \n",
       "\n",
       "   Scheduled_Departure_Time  Day_of_Week  Month Airplane_Type  Weather_Score  \\\n",
       "0                         4            6      1        Type C       0.225122   \n",
       "2                        17            3      9        Type C       0.093920   \n",
       "3                         1            1      8        Type B       0.656750   \n",
       "4                        19            7     12        Type E       0.505211   \n",
       "5                         3            5      2        Type D       0.030072   \n",
       "\n",
       "   Previous_Flight_Delay_Minutes  Airline_Rating  Passenger_Load  \\\n",
       "0                            5.0        2.151974        0.477202   \n",
       "2                           18.0        4.406848        0.256803   \n",
       "3                           13.0        0.998757        0.504077   \n",
       "4                            4.0        3.806206        0.019638   \n",
       "5                            5.0        2.228958        0.424126   \n",
       "\n",
       "   Flight_Cancelled  \n",
       "0                 0  \n",
       "2                 0  \n",
       "3                 1  \n",
       "4                 0  \n",
       "5                 0  "
      ]
     },
     "execution_count": 20,
     "metadata": {},
     "output_type": "execute_result"
    }
   ],
   "source": [
    "data_new1.head()"
   ]
  },
  {
   "cell_type": "markdown",
   "id": "95d571ed-2972-4b65-accb-d54e4a5c1b8f",
   "metadata": {},
   "source": [
    "##### The data types are appropriate for the data they represent."
   ]
  },
  {
   "cell_type": "code",
   "execution_count": null,
   "id": "f1d56ec3-f5c3-454b-be4b-9247313cce66",
   "metadata": {},
   "outputs": [],
   "source": []
  }
 ],
 "metadata": {
  "kernelspec": {
   "display_name": "Python 3 [3.10]",
   "language": "python",
   "name": "python3"
  },
  "language_info": {
   "codemirror_mode": {
    "name": "ipython",
    "version": 3
   },
   "file_extension": ".py",
   "mimetype": "text/x-python",
   "name": "python",
   "nbconvert_exporter": "python",
   "pygments_lexer": "ipython3",
   "version": "3.10.2"
  }
 },
 "nbformat": 4,
 "nbformat_minor": 5
}
